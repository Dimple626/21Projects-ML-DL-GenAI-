{
  "nbformat": 4,
  "nbformat_minor": 0,
  "metadata": {
    "colab": {
      "provenance": [],
      "gpuType": "T4",
      "authorship_tag": "ABX9TyM81EUHYL7p14nrsIHX97WO",
      "include_colab_link": true
    },
    "kernelspec": {
      "name": "python3",
      "display_name": "Python 3"
    },
    "language_info": {
      "name": "python"
    },
    "accelerator": "GPU"
  },
  "cells": [
    {
      "cell_type": "markdown",
      "metadata": {
        "id": "view-in-github",
        "colab_type": "text"
      },
      "source": [
        "<a href=\"https://colab.research.google.com/github/Dimple626/21Projects-ML-DL-GenAI-/blob/main/Project_13.ipynb\" target=\"_parent\"><img src=\"https://colab.research.google.com/assets/colab-badge.svg\" alt=\"Open In Colab\"/></a>"
      ]
    },
    {
      "cell_type": "code",
      "source": [
        "import kagglehub\n",
        "\n",
        "# Download latest version\n",
        "path = kagglehub.dataset_download(\"ashishjangra27/nifty-50-25-yrs-data\")\n",
        "\n",
        "print(\"Path to dataset files:\", path)"
      ],
      "metadata": {
        "colab": {
          "base_uri": "https://localhost:8080/"
        },
        "id": "xkCbd3_0SBHA",
        "outputId": "9810abe7-f5ba-4faf-c204-d54e3c866121"
      },
      "execution_count": 2,
      "outputs": [
        {
          "output_type": "stream",
          "name": "stdout",
          "text": [
            "Downloading from https://www.kaggle.com/api/v1/datasets/download/ashishjangra27/nifty-50-25-yrs-data?dataset_version_number=1...\n"
          ]
        },
        {
          "output_type": "stream",
          "name": "stderr",
          "text": [
            "100%|██████████| 90.9k/90.9k [00:00<00:00, 408kB/s]"
          ]
        },
        {
          "output_type": "stream",
          "name": "stdout",
          "text": [
            "Extracting files...\n",
            "Path to dataset files: /root/.cache/kagglehub/datasets/ashishjangra27/nifty-50-25-yrs-data/versions/1\n"
          ]
        },
        {
          "output_type": "stream",
          "name": "stderr",
          "text": [
            "\n"
          ]
        }
      ]
    },
    {
      "cell_type": "code",
      "source": [
        "import os\n",
        "print(os.listdir(path))\n"
      ],
      "metadata": {
        "colab": {
          "base_uri": "https://localhost:8080/"
        },
        "id": "d6Kev-GOSmWl",
        "outputId": "23a89945-5c4b-4d5f-df0b-2bd8310c72b1"
      },
      "execution_count": 3,
      "outputs": [
        {
          "output_type": "stream",
          "name": "stdout",
          "text": [
            "['data.csv']\n"
          ]
        }
      ]
    },
    {
      "cell_type": "code",
      "source": [
        "import os\n",
        "\n",
        "folder = \"/root/.cache/kagglehub/datasets/ashishjangra27/nifty-50-25-yrs-data/versions/1\"\n",
        "print(os.listdir(folder))\n"
      ],
      "metadata": {
        "colab": {
          "base_uri": "https://localhost:8080/"
        },
        "id": "XI2p3D4VTMJ4",
        "outputId": "316c8aed-03b7-4a24-982a-d9ccdf3f603c"
      },
      "execution_count": 4,
      "outputs": [
        {
          "output_type": "stream",
          "name": "stdout",
          "text": [
            "['data.csv']\n"
          ]
        }
      ]
    },
    {
      "cell_type": "code",
      "source": [
        "import os\n",
        "\n",
        "print(\"Path:\", path)  # Print actual download path\n",
        "print(\"Files:\", os.listdir(path))  # List all files in this folder\n"
      ],
      "metadata": {
        "colab": {
          "base_uri": "https://localhost:8080/"
        },
        "id": "cD7aVOE-S3ur",
        "outputId": "70b347b8-47d9-4730-db07-a5f54686fb7b"
      },
      "execution_count": 5,
      "outputs": [
        {
          "output_type": "stream",
          "name": "stdout",
          "text": [
            "Path: /root/.cache/kagglehub/datasets/ashishjangra27/nifty-50-25-yrs-data/versions/1\n",
            "Files: ['data.csv']\n"
          ]
        }
      ]
    },
    {
      "cell_type": "code",
      "source": [
        "import pandas as pd\n",
        "\n",
        "df = pd.read_csv(\"/root/.cache/kagglehub/datasets/ashishjangra27/nifty-50-25-yrs-data/versions/1/data.csv\")\n",
        "print(df.head())\n",
        "\n",
        "\n"
      ],
      "metadata": {
        "colab": {
          "base_uri": "https://localhost:8080/"
        },
        "id": "jdxdV9hkSqUO",
        "outputId": "26380d4c-5c52-4b7c-e952-e9f20cb8f960"
      },
      "execution_count": 6,
      "outputs": [
        {
          "output_type": "stream",
          "name": "stdout",
          "text": [
            "         Date     Open     High      Low   Close\n",
            "0  2000-01-03  1482.15  1592.90  1482.15  1592.2\n",
            "1  2000-01-04  1594.40  1641.95  1594.40  1638.7\n",
            "2  2000-01-05  1634.55  1635.50  1555.05  1595.8\n",
            "3  2000-01-06  1595.80  1639.00  1595.80  1617.6\n",
            "4  2000-01-07  1616.60  1628.25  1597.20  1613.3\n"
          ]
        }
      ]
    },
    {
      "cell_type": "code",
      "execution_count": 7,
      "metadata": {
        "colab": {
          "base_uri": "https://localhost:8080/"
        },
        "id": "azhmjmTLRtxQ",
        "outputId": "db89518f-24fa-4cd8-bfd8-b0cae6c265a8"
      },
      "outputs": [
        {
          "output_type": "stream",
          "name": "stdout",
          "text": [
            "Window: 30\n"
          ]
        },
        {
          "output_type": "stream",
          "name": "stderr",
          "text": [
            "/usr/local/lib/python3.12/dist-packages/keras/src/layers/rnn/rnn.py:199: UserWarning: Do not pass an `input_shape`/`input_dim` argument to a layer. When using Sequential models, prefer using an `Input(shape)` object as the first layer in the model instead.\n",
            "  super().__init__(**kwargs)\n",
            "/usr/local/lib/python3.12/dist-packages/keras/src/layers/rnn/rnn.py:199: UserWarning: Do not pass an `input_shape`/`input_dim` argument to a layer. When using Sequential models, prefer using an `Input(shape)` object as the first layer in the model instead.\n",
            "  super().__init__(**kwargs)\n",
            "/usr/local/lib/python3.12/dist-packages/keras/src/layers/rnn/rnn.py:199: UserWarning: Do not pass an `input_shape`/`input_dim` argument to a layer. When using Sequential models, prefer using an `Input(shape)` object as the first layer in the model instead.\n",
            "  super().__init__(**kwargs)\n",
            "/usr/local/lib/python3.12/dist-packages/keras/src/layers/rnn/bidirectional.py:107: UserWarning: Do not pass an `input_shape`/`input_dim` argument to a layer. When using Sequential models, prefer using an `Input(shape)` object as the first layer in the model instead.\n",
            "  super().__init__(**kwargs)\n"
          ]
        },
        {
          "output_type": "stream",
          "name": "stdout",
          "text": [
            "Window: 60\n"
          ]
        },
        {
          "output_type": "stream",
          "name": "stderr",
          "text": [
            "/usr/local/lib/python3.12/dist-packages/keras/src/layers/rnn/rnn.py:199: UserWarning: Do not pass an `input_shape`/`input_dim` argument to a layer. When using Sequential models, prefer using an `Input(shape)` object as the first layer in the model instead.\n",
            "  super().__init__(**kwargs)\n",
            "/usr/local/lib/python3.12/dist-packages/keras/src/layers/rnn/rnn.py:199: UserWarning: Do not pass an `input_shape`/`input_dim` argument to a layer. When using Sequential models, prefer using an `Input(shape)` object as the first layer in the model instead.\n",
            "  super().__init__(**kwargs)\n",
            "/usr/local/lib/python3.12/dist-packages/keras/src/layers/rnn/rnn.py:199: UserWarning: Do not pass an `input_shape`/`input_dim` argument to a layer. When using Sequential models, prefer using an `Input(shape)` object as the first layer in the model instead.\n",
            "  super().__init__(**kwargs)\n",
            "/usr/local/lib/python3.12/dist-packages/keras/src/layers/rnn/bidirectional.py:107: UserWarning: Do not pass an `input_shape`/`input_dim` argument to a layer. When using Sequential models, prefer using an `Input(shape)` object as the first layer in the model instead.\n",
            "  super().__init__(**kwargs)\n"
          ]
        },
        {
          "output_type": "stream",
          "name": "stdout",
          "text": [
            "Window: 90\n"
          ]
        },
        {
          "output_type": "stream",
          "name": "stderr",
          "text": [
            "/usr/local/lib/python3.12/dist-packages/keras/src/layers/rnn/rnn.py:199: UserWarning: Do not pass an `input_shape`/`input_dim` argument to a layer. When using Sequential models, prefer using an `Input(shape)` object as the first layer in the model instead.\n",
            "  super().__init__(**kwargs)\n",
            "/usr/local/lib/python3.12/dist-packages/keras/src/layers/rnn/rnn.py:199: UserWarning: Do not pass an `input_shape`/`input_dim` argument to a layer. When using Sequential models, prefer using an `Input(shape)` object as the first layer in the model instead.\n",
            "  super().__init__(**kwargs)\n",
            "/usr/local/lib/python3.12/dist-packages/keras/src/layers/rnn/rnn.py:199: UserWarning: Do not pass an `input_shape`/`input_dim` argument to a layer. When using Sequential models, prefer using an `Input(shape)` object as the first layer in the model instead.\n",
            "  super().__init__(**kwargs)\n",
            "/usr/local/lib/python3.12/dist-packages/keras/src/layers/rnn/bidirectional.py:107: UserWarning: Do not pass an `input_shape`/`input_dim` argument to a layer. When using Sequential models, prefer using an `Input(shape)` object as the first layer in the model instead.\n",
            "  super().__init__(**kwargs)\n"
          ]
        },
        {
          "output_type": "stream",
          "name": "stdout",
          "text": [
            "        Model       MAE      RMSE\n",
            "0      KNN-30  0.249845  0.291081\n",
            "1      RNN-30  0.029698  0.036268\n",
            "2      GRU-30  0.008146  0.009792\n",
            "3     LSTM-30  0.010234  0.012157\n",
            "4   BiLSTM-30  0.006288  0.008119\n",
            "5      KNN-60  0.254196  0.293988\n",
            "6      RNN-60  0.017162  0.023953\n",
            "7      GRU-60  0.005363  0.007117\n",
            "8     LSTM-60  0.009536  0.011869\n",
            "9   BiLSTM-60  0.007847  0.009962\n",
            "10     KNN-90  0.270985  0.310210\n",
            "11     RNN-90  0.020650  0.029075\n",
            "12     GRU-90  0.019792  0.023216\n",
            "13    LSTM-90  0.014204  0.016416\n",
            "14  BiLSTM-90  0.023322  0.025913\n"
          ]
        }
      ],
      "source": [
        "# --- 1. IMPORTS ---\n",
        "import numpy as np\n",
        "import pandas as pd\n",
        "from sklearn.model_selection import train_test_split\n",
        "from sklearn.metrics import mean_absolute_error, mean_squared_error\n",
        "from sklearn.neighbors import KNeighborsRegressor\n",
        "import joblib\n",
        "from tensorflow.keras.models import Sequential\n",
        "from tensorflow.keras.layers import Dense, SimpleRNN, GRU, LSTM, Bidirectional\n",
        "from tensorflow.keras.callbacks import EarlyStopping, ModelCheckpoint\n",
        "import tensorflow as tf\n",
        "\n",
        "# --- 2. LOAD DATA ---\n",
        "df = pd.read_csv(\"/root/.cache/kagglehub/datasets/ashishjangra27/nifty-50-25-yrs-data/versions/1/data.csv\")\n",
        "df['Date'] = pd.to_datetime(df['Date'])\n",
        "df.sort_values('Date', inplace=True)\n",
        "data = df['High'].values.reshape(-1,1)\n",
        "\n",
        "# --- 3. FEATURE SCALING ---\n",
        "from sklearn.preprocessing import MinMaxScaler\n",
        "scaler = MinMaxScaler()\n",
        "data = scaler.fit_transform(data)\n",
        "\n",
        "# --- 4. DATA PREP FUNCTION ---\n",
        "def create_data(data, window):\n",
        "    X, y = [], []\n",
        "    for i in range(window, len(data)):\n",
        "        X.append(data[i-window:i, 0])\n",
        "        y.append(data[i, 0])\n",
        "    return np.array(X), np.array(y)\n",
        "\n",
        "# --- 5. MODELING FUNCTIONS ---\n",
        "\n",
        "def get_knn_results(X_train, y_train, X_test, y_test):\n",
        "    model = KNeighborsRegressor(n_neighbors=5)\n",
        "    model.fit(X_train, y_train)\n",
        "    y_pred = model.predict(X_test)\n",
        "    mae = mean_absolute_error(y_test, y_pred)\n",
        "    rmse = np.sqrt(mean_squared_error(y_test, y_pred))\n",
        "    return mae, rmse, model\n",
        "\n",
        "\n",
        "def get_dl_results(model_fn, X_train, y_train, X_test, y_test, epochs):\n",
        "    # Reshape for RNN input\n",
        "    X_train_rnn = X_train.reshape((X_train.shape[0], X_train.shape[1], 1))\n",
        "    X_test_rnn = X_test.reshape((X_test.shape[0], X_test.shape[1], 1))\n",
        "    model = model_fn(X_train.shape[1])\n",
        "    model.compile(optimizer='adam', loss='mse')\n",
        "    early_stop = EarlyStopping(monitor='val_loss', patience=5)\n",
        "    model.fit(X_train_rnn, y_train, epochs=epochs, batch_size=32, validation_split=0.1, callbacks=[early_stop], verbose=0)\n",
        "    y_pred = model.predict(X_test_rnn, verbose=0)\n",
        "    mae = mean_absolute_error(y_test, y_pred)\n",
        "    rmse = np.sqrt(mean_squared_error(y_test, y_pred))  # THIS IS THE FIX\n",
        "    return mae, rmse, model\n",
        "\n",
        "\n",
        "\n",
        "\n",
        "def get_rnn(input_shape):\n",
        "    model = Sequential([SimpleRNN(32, input_shape=(input_shape,1)), Dense(1)])\n",
        "    return model\n",
        "\n",
        "def get_gru(input_shape):\n",
        "    model = Sequential([GRU(32, input_shape=(input_shape,1)), Dense(1)])\n",
        "    return model\n",
        "\n",
        "def get_lstm(input_shape):\n",
        "    model = Sequential([LSTM(32, input_shape=(input_shape,1)), Dense(1)])\n",
        "    return model\n",
        "\n",
        "def get_bilstm(input_shape):\n",
        "    model = Sequential([Bidirectional(LSTM(32), input_shape=(input_shape,1)), Dense(1)])\n",
        "    return model\n",
        "\n",
        "# --- 6. MAIN LOOP ---\n",
        "results = []\n",
        "trained_models = {}\n",
        "\n",
        "windows = [30, 60, 90]\n",
        "epochs = 50\n",
        "\n",
        "for win in windows:\n",
        "    print(f'Window: {win}')\n",
        "    X, y = create_data(data, win)\n",
        "    X_train, X_test, y_train, y_test = train_test_split(X, y, test_size=0.2, shuffle=False)\n",
        "\n",
        "    # --- KNN ---\n",
        "    mae, rmse, model = get_knn_results(X_train, y_train, X_test, y_test)\n",
        "    results.append({'Model':f'KNN-{win}','MAE':mae,'RMSE':rmse})\n",
        "    trained_models[f'KNN-{win}'] = model\n",
        "\n",
        "    # --- RNN ---\n",
        "    mae, rmse, model = get_dl_results(get_rnn, X_train, y_train, X_test, y_test, epochs)\n",
        "    results.append({'Model':f'RNN-{win}','MAE':mae,'RMSE':rmse})\n",
        "    trained_models[f'RNN-{win}'] = model\n",
        "\n",
        "    # --- GRU ---\n",
        "    mae, rmse, model = get_dl_results(get_gru, X_train, y_train, X_test, y_test, epochs)\n",
        "    results.append({'Model':f'GRU-{win}','MAE':mae,'RMSE':rmse})\n",
        "    trained_models[f'GRU-{win}'] = model\n",
        "\n",
        "    # --- LSTM ---\n",
        "    mae, rmse, model = get_dl_results(get_lstm, X_train, y_train, X_test, y_test, epochs)\n",
        "    results.append({'Model':f'LSTM-{win}','MAE':mae,'RMSE':rmse})\n",
        "    trained_models[f'LSTM-{win}'] = model\n",
        "\n",
        "    # --- Bidirectional LSTM ---\n",
        "    mae, rmse, model = get_dl_results(get_bilstm, X_train, y_train, X_test, y_test, epochs)\n",
        "    results.append({'Model':f'BiLSTM-{win}','MAE':mae,'RMSE':rmse})\n",
        "    trained_models[f'BiLSTM-{win}'] = model\n",
        "\n",
        "# --- 7. SAVE RESULTS ---\n",
        "results_df = pd.DataFrame(results)\n",
        "results_df.to_csv('models.csv', index=False)  # Metrics Table\n",
        "\n",
        "joblib.dump(trained_models, 'trainedmodels.joblib')   # Trained models\n",
        "\n",
        "# --- 8. DISPLAY RESULTS ---\n",
        "print(results_df)\n"
      ]
    },
    {
      "cell_type": "code",
      "source": [],
      "metadata": {
        "id": "F2C70RabXm_b"
      },
      "execution_count": null,
      "outputs": []
    }
  ]
}